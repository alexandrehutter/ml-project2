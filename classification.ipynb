{
 "cells": [
  {
   "cell_type": "markdown",
   "metadata": {},
   "source": [
    "# Road segmentation"
   ]
  },
  {
   "cell_type": "code",
   "execution_count": null,
   "metadata": {},
   "outputs": [],
   "source": [
    "%matplotlib inline\n",
    "import numpy as np\n",
    "import os,sys\n",
    "from helpers import *\n",
    "from plots import *"
   ]
  },
  {
   "cell_type": "markdown",
   "metadata": {},
   "source": [
    "## Parameters"
   ]
  },
  {
   "cell_type": "code",
   "execution_count": null,
   "metadata": {},
   "outputs": [],
   "source": [
    "# Model\n",
    "from sklearn import linear_model\n",
    "model = linear_model.LogisticRegression(C=1e5, class_weight=\"balanced\", solver=\"lbfgs\")\n",
    "\n",
    "# Number of training images\n",
    "n = 50\n",
    "\n",
    "# AIcrowd expects patches of 16 by 16 pixels.\n",
    "patch_size = 16\n",
    "\n",
    "# percentage of pixels > 1 required to assign a foreground label to a patch\n",
    "foreground_threshold = 0.25\n",
    "\n",
    "# Extraction function\n",
    "extraction_func = extract_features_2d\n",
    "\n",
    "# Create a submission file ?\n",
    "submit = True"
   ]
  },
  {
   "cell_type": "markdown",
   "metadata": {},
   "source": [
    "## Data extraction"
   ]
  },
  {
   "cell_type": "code",
   "execution_count": null,
   "metadata": {},
   "outputs": [],
   "source": [
    "# Load a set of images\n",
    "imgs, gt_imgs = load_training_images(n)"
   ]
  },
  {
   "cell_type": "code",
   "execution_count": null,
   "metadata": {},
   "outputs": [],
   "source": [
    "# Extract patches from all images\n",
    "img_patches = get_patches(imgs, patch_size)\n",
    "gt_patches = get_patches(gt_imgs, patch_size)"
   ]
  },
  {
   "cell_type": "code",
   "execution_count": null,
   "metadata": {},
   "outputs": [],
   "source": [
    "# Get features for each image patch\n",
    "X, Y = get_data_from_patches(img_patches, gt_patches, foreground_threshold, extraction_func)"
   ]
  },
  {
   "cell_type": "markdown",
   "metadata": {},
   "source": [
    "## Training and predictions"
   ]
  },
  {
   "cell_type": "code",
   "execution_count": null,
   "metadata": {},
   "outputs": [],
   "source": [
    "# Training\n",
    "model.fit(X, Y)"
   ]
  },
  {
   "cell_type": "code",
   "execution_count": null,
   "metadata": {},
   "outputs": [],
   "source": [
    "# Predict on the training set\n",
    "Z = model.predict(X)\n",
    "\n",
    "TPR = true_positive_rate(Z, Y)\n",
    "print('True positive rate = ' + str(TPR))"
   ]
  },
  {
   "cell_type": "code",
   "execution_count": null,
   "metadata": {},
   "outputs": [],
   "source": [
    "# Predict on test set and create submission\n",
    "if submit:\n",
    "    create_submission(model, extraction_func, patch_size)"
   ]
  },
  {
   "cell_type": "markdown",
   "metadata": {},
   "source": [
    "## Visualization of a single test image"
   ]
  },
  {
   "cell_type": "code",
   "execution_count": null,
   "metadata": {},
   "outputs": [],
   "source": [
    "# Load a test image\n",
    "img_idx = 1\n",
    "\n",
    "img_path = \"Datasets/test_set_images/test_{0}/test_{0}.png\".format(img_idx)\n",
    "img = load_image(img_path)"
   ]
  },
  {
   "cell_type": "code",
   "execution_count": null,
   "metadata": {},
   "outputs": [],
   "source": [
    "# Run predictions\n",
    "Xi = get_data_from_img(img, extraction_func, patch_size)\n",
    "Zi = model.predict(Xi)"
   ]
  },
  {
   "cell_type": "code",
   "execution_count": null,
   "metadata": {},
   "outputs": [],
   "source": [
    "if Xi.shape[1] == 2:\n",
    "    show_data_points(Xi, Zi)"
   ]
  },
  {
   "cell_type": "code",
   "execution_count": null,
   "metadata": {},
   "outputs": [],
   "source": [
    "# Display prediction as an image\n",
    "w = img.shape[0]\n",
    "h = img.shape[1]\n",
    "predicted_img = label_to_img(w, h, patch_size, patch_size, Zi)\n",
    "show_img_concatenated(img, predicted_img)"
   ]
  },
  {
   "cell_type": "code",
   "execution_count": null,
   "metadata": {},
   "outputs": [],
   "source": [
    "show_img_overlay(img, predicted_img)"
   ]
  },
  {
   "cell_type": "code",
   "execution_count": null,
   "metadata": {},
   "outputs": [],
   "source": []
  }
 ],
 "metadata": {
  "kernelspec": {
   "display_name": "Python 3",
   "language": "python",
   "name": "python3"
  },
  "language_info": {
   "codemirror_mode": {
    "name": "ipython",
    "version": 3
   },
   "file_extension": ".py",
   "mimetype": "text/x-python",
   "name": "python",
   "nbconvert_exporter": "python",
   "pygments_lexer": "ipython3",
   "version": "3.7.3"
  }
 },
 "nbformat": 4,
 "nbformat_minor": 4
}
