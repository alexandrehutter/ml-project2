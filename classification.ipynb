{
 "cells": [
  {
   "cell_type": "markdown",
   "metadata": {},
   "source": [
    "# Road segmentation"
   ]
  },
  {
   "cell_type": "code",
   "execution_count": null,
   "metadata": {},
   "outputs": [],
   "source": [
    "%matplotlib inline\n",
    "\n",
    "import numpy as np\n",
    "import os,sys\n",
    "\n",
    "from sklearn import linear_model\n",
    "from sklearn import neighbors\n",
    "from sklearn import svm\n",
    "from sklearn import preprocessing\n",
    "from sklearn.model_selection import StratifiedShuffleSplit, GridSearchCV\n",
    "\n",
    "from helpers import *\n",
    "from plots import *\n",
    "import postprocessing\n",
    "\n",
    "%load_ext autoreload\n",
    "%autoreload 2"
   ]
  },
  {
   "cell_type": "markdown",
   "metadata": {},
   "source": [
    "## Parameters"
   ]
  },
  {
   "cell_type": "code",
   "execution_count": null,
   "metadata": {},
   "outputs": [],
   "source": [
    "# Model and hyper-parameters grid.\n",
    "\n",
    "#model = linear_model.LogisticRegression(class_weight=\"balanced\", solver=\"lbfgs\")\n",
    "#param_grid = {'C': [1e5, 1e4, 1e3, 1e2, 1e1, 1, 1e-1, 1e-2, 1e-3, 1e-4]}\n",
    "\n",
    "model = neighbors.KNeighborsClassifier(algorithm='auto')\n",
    "param_grid = {'n_neighbors': [1, 5, 9, 13, 17, 21, 25, 29, 33, 37], 'weights': ['uniform', 'distance']}\n",
    "#param_grid = {'n_neighbors': [15, 25, 35, 45, 55, 65, 75, 85, 95], 'weights': ['distance']}\n",
    "\n",
    "#model = neighbors.RadiusNeighborsClassifier(algorithm='auto')\n",
    "#param_grid = {'radius': [0.11, 0.12, 0.13, 0.14], 'weights': ['uniform', 'distance'], 'outlier_label': [0, 1]}\n",
    "\n",
    "#model = svm.SVC(random_state=0)\n",
    "#param_grid = {'C': [1.0], 'kernel': ['rbf'], 'class_weight': [None]}\n",
    "\n",
    "#model = svm.LinearSVC(random_state=0)\n",
    "#param_grid = {'C': [10000000000000], 'class_weight': [None], 'max_iter': [10000]}"
   ]
  },
  {
   "cell_type": "code",
   "execution_count": null,
   "metadata": {},
   "outputs": [],
   "source": [
    "# Number of training images\n",
    "n = 100\n",
    "\n",
    "# Number of folds for the cross-validation.\n",
    "k = 3\n",
    "\n",
    "# Fix randomness (integer) or not (None)\n",
    "seed = 0\n",
    "\n",
    "# AIcrowd expects patches of 16 by 16 pixels.\n",
    "patch_size = 4\n",
    "aggregate_threshold = 0.3\n",
    "\n",
    "# Percentage of pixels > 1 required to assign a foreground label to a patch (default=0.25)\n",
    "# We can give multiple values as a list, and it will keep the one that yields the best F1 score on cross-validation.\n",
    "foreground_threshold = [0.25]\n",
    "\n",
    "# Extraction function\n",
    "#extraction_func = extract_features_2d\n",
    "extraction_func = extract_features_6d\n",
    "#extraction_func = extract_features_12d\n",
    "\n",
    "# Preprocessing function\n",
    "#preproc = None\n",
    "preproc = preprocessing.StandardScaler()\n",
    "#preproc = preprocessing.Normalizer()\n",
    "\n",
    "# Create a submission file ?\n",
    "submit = False"
   ]
  },
  {
   "cell_type": "markdown",
   "metadata": {},
   "source": [
    "## Data extraction"
   ]
  },
  {
   "cell_type": "code",
   "execution_count": null,
   "metadata": {},
   "outputs": [],
   "source": [
    "# Load a set of images\n",
    "imgs, gt_imgs = load_training_images(n)"
   ]
  },
  {
   "cell_type": "code",
   "execution_count": null,
   "metadata": {},
   "outputs": [],
   "source": [
    "# Extract patches from all images\n",
    "img_patches = get_patches(imgs, patch_size)\n",
    "gt_patches = get_patches(gt_imgs, patch_size)"
   ]
  },
  {
   "cell_type": "code",
   "execution_count": null,
   "metadata": {},
   "outputs": [],
   "source": [
    "# Get features for each image patch\n",
    "X = get_features_from_patches(img_patches, extraction_func)\n",
    "Ys = [get_labels_from_patches(gt_patches, t) for t in foreground_threshold]\n",
    "Y = None\n",
    "print(X.shape)"
   ]
  },
  {
   "cell_type": "code",
   "execution_count": null,
   "metadata": {},
   "outputs": [],
   "source": [
    "# Preprocessing\n",
    "if preproc is not None:\n",
    "    preproc = preproc.fit(X)\n",
    "    X = preproc.transform(X)\n",
    "print(X)"
   ]
  },
  {
   "cell_type": "markdown",
   "metadata": {},
   "source": [
    "## Cross-validation and parameters tuning"
   ]
  },
  {
   "cell_type": "code",
   "execution_count": null,
   "metadata": {},
   "outputs": [],
   "source": [
    "split = StratifiedShuffleSplit(n_splits=k, random_state=seed)\n",
    "search = GridSearchCV(model, param_grid, cv=split, scoring=\"f1\")\n",
    "score = -1\n",
    "# Cross-validate with different foreground_threshold values.\n",
    "for i, y in enumerate(Ys):\n",
    "    # Grid search on the parameters, to find the best score.\n",
    "    search.fit(X,y)\n",
    "    print(\"Threshold={} : score={}\".format(foreground_threshold[i], search.best_score_))\n",
    "    if search.best_score_ > score:\n",
    "        Y = y\n",
    "        score = search.best_score_\n",
    "        model = search.best_estimator_"
   ]
  },
  {
   "cell_type": "code",
   "execution_count": null,
   "metadata": {},
   "outputs": [],
   "source": [
    "print(\"F1 score:\", score)\n",
    "print(model.get_params())"
   ]
  },
  {
   "cell_type": "markdown",
   "metadata": {},
   "source": [
    "## Predictions"
   ]
  },
  {
   "cell_type": "code",
   "execution_count": null,
   "metadata": {},
   "outputs": [],
   "source": [
    "# Predict on the training set\n",
    "Z = model.predict(X)\n",
    "\n",
    "TPR = true_positive_rate(Z, Y)\n",
    "TNR = true_negative_rate(Z, Y)\n",
    "FPR = false_positive_rate(Z, Y)\n",
    "FNR = false_negative_rate(Z, Y)\n",
    "print('True positive rate = ' + str(TPR))\n",
    "print('True negative rate = ' + str(TNR))\n",
    "print('False positive rate = ' + str(FPR))\n",
    "print('False negative rate = ' + str(FNR))"
   ]
  },
  {
   "cell_type": "code",
   "execution_count": null,
   "metadata": {},
   "outputs": [],
   "source": [
    "# Predict on test set and create submission\n",
    "if submit:\n",
    "    create_submission(model, extraction_func, patch_size, preproc, aggregate_threshold)"
   ]
  },
  {
   "cell_type": "markdown",
   "metadata": {},
   "source": [
    "## Comparison of groundtruth and prediction"
   ]
  },
  {
   "cell_type": "code",
   "execution_count": null,
   "metadata": {},
   "outputs": [],
   "source": [
    "idx = 1\n",
    "img = imgs[idx]\n",
    "gt_img = gt_imgs[idx]\n",
    "# Run predictions\n",
    "Xi = get_features_from_img(img, extraction_func, patch_size)\n",
    "Yi = get_labels_from_img(gt_img, foreground_threshold, patch_size)\n",
    "if preproc is not None:\n",
    "    Xi = preproc.transform(Xi)\n",
    "Zi = model.predict(Xi)"
   ]
  },
  {
   "cell_type": "code",
   "execution_count": null,
   "metadata": {},
   "outputs": [],
   "source": [
    "w = img.shape[0]\n",
    "h = img.shape[1]\n",
    "label_img = label_to_img(w, h, patch_size, patch_size, Yi)\n",
    "predicted_img = label_to_img(w, h, patch_size, patch_size, Zi)"
   ]
  },
  {
   "cell_type": "code",
   "execution_count": null,
   "metadata": {},
   "outputs": [],
   "source": [
    "print(\"Groundtruth:\")\n",
    "show_img(gt_imgs[idx])"
   ]
  },
  {
   "cell_type": "code",
   "execution_count": null,
   "metadata": {},
   "outputs": [],
   "source": [
    "print(\"Patched groundtruth:\")\n",
    "show_img(label_img)"
   ]
  },
  {
   "cell_type": "code",
   "execution_count": null,
   "metadata": {},
   "outputs": [],
   "source": [
    "print(\"Predictions:\")\n",
    "show_img(predicted_img)"
   ]
  },
  {
   "cell_type": "markdown",
   "metadata": {},
   "source": [
    "## Visualization of a single test image"
   ]
  },
  {
   "cell_type": "code",
   "execution_count": null,
   "metadata": {},
   "outputs": [],
   "source": [
    "# Load a test image\n",
    "img_idx = 1\n",
    "\n",
    "img_path = \"Datasets/test_set_images/test_{0}/test_{0}.png\".format(img_idx)\n",
    "img = load_image(img_path)"
   ]
  },
  {
   "cell_type": "code",
   "execution_count": null,
   "metadata": {},
   "outputs": [],
   "source": [
    "# Run predictions\n",
    "Xi = get_features_from_img(img, extraction_func, patch_size)\n",
    "if preproc is not None:\n",
    "    Xi = preproc.transform(Xi)\n",
    "Zi = model.predict(Xi)"
   ]
  },
  {
   "cell_type": "code",
   "execution_count": null,
   "metadata": {},
   "outputs": [],
   "source": [
    "if Xi.shape[1] == 2:\n",
    "    show_data_points(Xi, Zi)"
   ]
  },
  {
   "cell_type": "code",
   "execution_count": null,
   "metadata": {},
   "outputs": [],
   "source": [
    "# Display prediction as an image\n",
    "w = img.shape[0]\n",
    "h = img.shape[1]\n",
    "predicted_img = label_to_img(w, h, patch_size, patch_size, Zi)\n",
    "show_img_concatenated(img, predicted_img)"
   ]
  },
  {
   "cell_type": "code",
   "execution_count": null,
   "metadata": {},
   "outputs": [],
   "source": [
    "show_img_overlay(img, predicted_img)"
   ]
  },
  {
   "cell_type": "code",
   "execution_count": null,
   "metadata": {},
   "outputs": [],
   "source": [
    "if patch_size != 16:\n",
    "    Zi_agg = postprocessing.aggregate_labels(Zi, patch_size, 16, aggregate_threshold)\n",
    "    predicted_img_agg = label_to_img(w, h, 16, 16, Zi_agg)\n",
    "    show_img(predicted_img_agg)\n",
    "    show_img_overlay(img, predicted_img_agg)"
   ]
  },
  {
   "cell_type": "code",
   "execution_count": null,
   "metadata": {},
   "outputs": [],
   "source": [
    "postprocessing.hough_transform(predicted_img)"
   ]
  },
  {
   "cell_type": "code",
   "execution_count": null,
   "metadata": {},
   "outputs": [],
   "source": []
  }
 ],
 "metadata": {
  "kernelspec": {
   "display_name": "Python 3",
   "language": "python",
   "name": "python3"
  },
  "language_info": {
   "codemirror_mode": {
    "name": "ipython",
    "version": 3
   },
   "file_extension": ".py",
   "mimetype": "text/x-python",
   "name": "python",
   "nbconvert_exporter": "python",
   "pygments_lexer": "ipython3",
   "version": "3.8.0"
  }
 },
 "nbformat": 4,
 "nbformat_minor": 4
}
