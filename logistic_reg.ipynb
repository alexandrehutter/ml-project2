{
 "cells": [
  {
   "cell_type": "markdown",
   "metadata": {},
   "source": [
    "# Logistic regression"
   ]
  },
  {
   "cell_type": "code",
   "execution_count": null,
   "metadata": {},
   "outputs": [],
   "source": [
    "%matplotlib inline\n",
    "import numpy as np\n",
    "import os,sys\n",
    "from helpers import *\n",
    "from plots import *"
   ]
  },
  {
   "cell_type": "markdown",
   "metadata": {},
   "source": [
    "## Data extraction"
   ]
  },
  {
   "cell_type": "code",
   "execution_count": null,
   "metadata": {},
   "outputs": [],
   "source": [
    "# Load a set of images\n",
    "\n",
    "n = 50  # Number of training images\n",
    "\n",
    "root_dir = \"Datasets/training/\"\n",
    "\n",
    "image_dir = root_dir + \"images/\"\n",
    "files = os.listdir(image_dir)\n",
    "n = min(n, len(files))\n",
    "imgs = [load_image(image_dir + files[i]) for i in range(n)]\n",
    "\n",
    "gt_dir = root_dir + \"groundtruth/\"\n",
    "gt_imgs = [load_image(gt_dir + files[i]) for i in range(n)]"
   ]
  },
  {
   "cell_type": "code",
   "execution_count": null,
   "metadata": {},
   "outputs": [],
   "source": [
    "# Extract patches from all images (Note: AIcrowd expects patches of 16)\n",
    "patch_size = 16\n",
    "\n",
    "img_patches = extract_patches(imgs)\n",
    "gt_patches = extract_patches(gt_imgs)"
   ]
  },
  {
   "cell_type": "code",
   "execution_count": null,
   "metadata": {},
   "outputs": [],
   "source": [
    "# Compute features for each image patch\n",
    "foreground_threshold = 0.25 # percentage of pixels > 1 required to assign a foreground label to a patch\n",
    "\n",
    "def value_to_class(v):\n",
    "    df = np.sum(v)\n",
    "    if df > foreground_threshold:\n",
    "        return 1\n",
    "    else:\n",
    "        return 0\n",
    "\n",
    "X = np.asarray([ extract_features_2d(img_patches[i]) for i in range(len(img_patches))])\n",
    "Y = np.asarray([value_to_class(np.mean(gt_patches[i])) for i in range(len(gt_patches))])"
   ]
  },
  {
   "cell_type": "markdown",
   "metadata": {},
   "source": [
    "## Training and predictions"
   ]
  },
  {
   "cell_type": "code",
   "execution_count": null,
   "metadata": {},
   "outputs": [],
   "source": [
    "# train a logistic regression classifier\n",
    "\n",
    "from sklearn import linear_model\n",
    "\n",
    "# we create an instance of the classifier and fit the data\n",
    "logreg = linear_model.LogisticRegression(C=1e5, class_weight=\"balanced\", solver=\"lbfgs\")\n",
    "logreg.fit(X, Y)"
   ]
  },
  {
   "cell_type": "code",
   "execution_count": null,
   "metadata": {},
   "outputs": [],
   "source": [
    "# Predict on the training set\n",
    "Z = logreg.predict(X)\n",
    "\n",
    "# Get non-zeros in prediction and grountruth arrays\n",
    "Zn = np.nonzero(Z)[0]\n",
    "Yn = np.nonzero(Y)[0]\n",
    "\n",
    "TPR = len(list(set(Yn) & set(Zn))) / float(len(Z))\n",
    "print('True positive rate = ' + str(TPR))"
   ]
  },
  {
   "cell_type": "code",
   "execution_count": null,
   "metadata": {},
   "outputs": [],
   "source": [
    "# Predict on test set and create submission\n",
    "\n",
    "dir_t = \"Datasets/test_set_images/\"\n",
    "n_t = 50  # Number of test images\n",
    "\n",
    "with open('Datasets/submission.csv', 'w') as f:\n",
    "    f.write('id,prediction\\n')\n",
    "\n",
    "    for img_idx in range(1, n_t+1):\n",
    "        image_path = dir_t + \"test_{0}/test_{0}.png\".format(img_idx)\n",
    "        img = load_image(image_path)\n",
    "\n",
    "        # Run predictions\n",
    "        Xi_t = extract_img_features(image_path)\n",
    "        Zi_t = logreg.predict(Xi_t)\n",
    "        \n",
    "        # Write predictions to file\n",
    "        pred_index = 0\n",
    "        for j in range(0, img.shape[1], patch_size):\n",
    "            for i in range(0, img.shape[0], patch_size):\n",
    "                f.write(\"{:03d}_{}_{},{}\\n\".format(img_idx, j, i, Zi_t[pred_index]))\n",
    "                pred_index += 1"
   ]
  },
  {
   "cell_type": "markdown",
   "metadata": {},
   "source": [
    "## Visualization of a single test image"
   ]
  },
  {
   "cell_type": "code",
   "execution_count": null,
   "metadata": {},
   "outputs": [],
   "source": [
    "# Load a test image\n",
    "img_idx = 1\n",
    "\n",
    "image_path = \"Datasets/test_set_images/test_{0}/test_{0}.png\".format(img_idx)\n",
    "img = load_image(image_path)"
   ]
  },
  {
   "cell_type": "code",
   "execution_count": null,
   "metadata": {},
   "outputs": [],
   "source": [
    "# Run predictions\n",
    "Xi = extract_img_features(image_path, patch_size)\n",
    "Zi = logreg.predict(Xi)"
   ]
  },
  {
   "cell_type": "code",
   "execution_count": null,
   "metadata": {},
   "outputs": [],
   "source": [
    "show_data_points(Xi, Zi)"
   ]
  },
  {
   "cell_type": "code",
   "execution_count": null,
   "metadata": {},
   "outputs": [],
   "source": [
    "# Display prediction as an image\n",
    "w = img.shape[0]\n",
    "h = img.shape[1]\n",
    "predicted_img = label_to_img(w, h, patch_size, patch_size, Zi)\n",
    "show_img_concatenated(img, predicted_img)"
   ]
  },
  {
   "cell_type": "code",
   "execution_count": null,
   "metadata": {},
   "outputs": [],
   "source": [
    "show_img_overlay(img, predicted_img)"
   ]
  },
  {
   "cell_type": "code",
   "execution_count": null,
   "metadata": {},
   "outputs": [],
   "source": []
  }
 ],
 "metadata": {
  "kernelspec": {
   "display_name": "Python 3",
   "language": "python",
   "name": "python3"
  },
  "language_info": {
   "codemirror_mode": {
    "name": "ipython",
    "version": 3
   },
   "file_extension": ".py",
   "mimetype": "text/x-python",
   "name": "python",
   "nbconvert_exporter": "python",
   "pygments_lexer": "ipython3",
   "version": "3.7.3"
  }
 },
 "nbformat": 4,
 "nbformat_minor": 4
}
